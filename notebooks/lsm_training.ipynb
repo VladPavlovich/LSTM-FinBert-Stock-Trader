{
 "cells": [
  {
   "cell_type": "code",
   "execution_count": 64,
   "id": "initial_id",
   "metadata": {
    "collapsed": true,
    "ExecuteTime": {
     "end_time": "2025-07-05T05:47:06.318250Z",
     "start_time": "2025-07-05T05:47:05.207826Z"
    }
   },
   "outputs": [
    {
     "name": "stdout",
     "output_type": "stream",
     "text": [
      "Requirement already satisfied: yfinance in /Users/vladpavlovich/PycharmProjects/LSM-FinBert-Trader/venv/lib/python3.9/site-packages (0.2.64)\r\n",
      "Requirement already satisfied: pandas in /Users/vladpavlovich/PycharmProjects/LSM-FinBert-Trader/venv/lib/python3.9/site-packages (2.3.0)\r\n",
      "Requirement already satisfied: numpy in /Users/vladpavlovich/PycharmProjects/LSM-FinBert-Trader/venv/lib/python3.9/site-packages (2.0.2)\r\n",
      "Requirement already satisfied: scikit-learn in /Users/vladpavlovich/PycharmProjects/LSM-FinBert-Trader/venv/lib/python3.9/site-packages (1.6.1)\r\n",
      "Requirement already satisfied: torch in /Users/vladpavlovich/PycharmProjects/LSM-FinBert-Trader/venv/lib/python3.9/site-packages (2.7.1)\r\n",
      "Requirement already satisfied: requests>=2.31 in /Users/vladpavlovich/PycharmProjects/LSM-FinBert-Trader/venv/lib/python3.9/site-packages (from yfinance) (2.32.4)\r\n",
      "Requirement already satisfied: multitasking>=0.0.7 in /Users/vladpavlovich/PycharmProjects/LSM-FinBert-Trader/venv/lib/python3.9/site-packages (from yfinance) (0.0.11)\r\n",
      "Requirement already satisfied: platformdirs>=2.0.0 in /Users/vladpavlovich/PycharmProjects/LSM-FinBert-Trader/venv/lib/python3.9/site-packages (from yfinance) (4.3.8)\r\n",
      "Requirement already satisfied: pytz>=2022.5 in /Users/vladpavlovich/PycharmProjects/LSM-FinBert-Trader/venv/lib/python3.9/site-packages (from yfinance) (2025.2)\r\n",
      "Requirement already satisfied: frozendict>=2.3.4 in /Users/vladpavlovich/PycharmProjects/LSM-FinBert-Trader/venv/lib/python3.9/site-packages (from yfinance) (2.4.6)\r\n",
      "Requirement already satisfied: peewee>=3.16.2 in /Users/vladpavlovich/PycharmProjects/LSM-FinBert-Trader/venv/lib/python3.9/site-packages (from yfinance) (3.18.1)\r\n",
      "Requirement already satisfied: beautifulsoup4>=4.11.1 in /Users/vladpavlovich/PycharmProjects/LSM-FinBert-Trader/venv/lib/python3.9/site-packages (from yfinance) (4.13.4)\r\n",
      "Requirement already satisfied: curl_cffi>=0.7 in /Users/vladpavlovich/PycharmProjects/LSM-FinBert-Trader/venv/lib/python3.9/site-packages (from yfinance) (0.11.4)\r\n",
      "Requirement already satisfied: protobuf>=3.19.0 in /Users/vladpavlovich/PycharmProjects/LSM-FinBert-Trader/venv/lib/python3.9/site-packages (from yfinance) (6.31.1)\r\n",
      "Requirement already satisfied: websockets>=13.0 in /Users/vladpavlovich/PycharmProjects/LSM-FinBert-Trader/venv/lib/python3.9/site-packages (from yfinance) (15.0.1)\r\n",
      "Requirement already satisfied: python-dateutil>=2.8.2 in /Users/vladpavlovich/PycharmProjects/LSM-FinBert-Trader/venv/lib/python3.9/site-packages (from pandas) (2.9.0.post0)\r\n",
      "Requirement already satisfied: tzdata>=2022.7 in /Users/vladpavlovich/PycharmProjects/LSM-FinBert-Trader/venv/lib/python3.9/site-packages (from pandas) (2025.2)\r\n",
      "Requirement already satisfied: scipy>=1.6.0 in /Users/vladpavlovich/PycharmProjects/LSM-FinBert-Trader/venv/lib/python3.9/site-packages (from scikit-learn) (1.13.1)\r\n",
      "Requirement already satisfied: joblib>=1.2.0 in /Users/vladpavlovich/PycharmProjects/LSM-FinBert-Trader/venv/lib/python3.9/site-packages (from scikit-learn) (1.5.1)\r\n",
      "Requirement already satisfied: threadpoolctl>=3.1.0 in /Users/vladpavlovich/PycharmProjects/LSM-FinBert-Trader/venv/lib/python3.9/site-packages (from scikit-learn) (3.6.0)\r\n",
      "Requirement already satisfied: filelock in /Users/vladpavlovich/PycharmProjects/LSM-FinBert-Trader/venv/lib/python3.9/site-packages (from torch) (3.18.0)\r\n",
      "Requirement already satisfied: typing-extensions>=4.10.0 in /Users/vladpavlovich/PycharmProjects/LSM-FinBert-Trader/venv/lib/python3.9/site-packages (from torch) (4.14.1)\r\n",
      "Requirement already satisfied: sympy>=1.13.3 in /Users/vladpavlovich/PycharmProjects/LSM-FinBert-Trader/venv/lib/python3.9/site-packages (from torch) (1.14.0)\r\n",
      "Requirement already satisfied: networkx in /Users/vladpavlovich/PycharmProjects/LSM-FinBert-Trader/venv/lib/python3.9/site-packages (from torch) (3.2.1)\r\n",
      "Requirement already satisfied: jinja2 in /Users/vladpavlovich/PycharmProjects/LSM-FinBert-Trader/venv/lib/python3.9/site-packages (from torch) (3.1.6)\r\n",
      "Requirement already satisfied: fsspec in /Users/vladpavlovich/PycharmProjects/LSM-FinBert-Trader/venv/lib/python3.9/site-packages (from torch) (2025.5.1)\r\n",
      "Requirement already satisfied: soupsieve>1.2 in /Users/vladpavlovich/PycharmProjects/LSM-FinBert-Trader/venv/lib/python3.9/site-packages (from beautifulsoup4>=4.11.1->yfinance) (2.7)\r\n",
      "Requirement already satisfied: cffi>=1.12.0 in /Users/vladpavlovich/PycharmProjects/LSM-FinBert-Trader/venv/lib/python3.9/site-packages (from curl_cffi>=0.7->yfinance) (1.17.1)\r\n",
      "Requirement already satisfied: certifi>=2024.2.2 in /Users/vladpavlovich/PycharmProjects/LSM-FinBert-Trader/venv/lib/python3.9/site-packages (from curl_cffi>=0.7->yfinance) (2025.6.15)\r\n",
      "Requirement already satisfied: six>=1.5 in /Users/vladpavlovich/PycharmProjects/LSM-FinBert-Trader/venv/lib/python3.9/site-packages (from python-dateutil>=2.8.2->pandas) (1.17.0)\r\n",
      "Requirement already satisfied: charset_normalizer<4,>=2 in /Users/vladpavlovich/PycharmProjects/LSM-FinBert-Trader/venv/lib/python3.9/site-packages (from requests>=2.31->yfinance) (3.4.2)\r\n",
      "Requirement already satisfied: idna<4,>=2.5 in /Users/vladpavlovich/PycharmProjects/LSM-FinBert-Trader/venv/lib/python3.9/site-packages (from requests>=2.31->yfinance) (3.10)\r\n",
      "Requirement already satisfied: urllib3<3,>=1.21.1 in /Users/vladpavlovich/PycharmProjects/LSM-FinBert-Trader/venv/lib/python3.9/site-packages (from requests>=2.31->yfinance) (2.5.0)\r\n",
      "Requirement already satisfied: mpmath<1.4,>=1.1.0 in /Users/vladpavlovich/PycharmProjects/LSM-FinBert-Trader/venv/lib/python3.9/site-packages (from sympy>=1.13.3->torch) (1.3.0)\r\n",
      "Requirement already satisfied: MarkupSafe>=2.0 in /Users/vladpavlovich/PycharmProjects/LSM-FinBert-Trader/venv/lib/python3.9/site-packages (from jinja2->torch) (3.0.2)\r\n",
      "Requirement already satisfied: pycparser in /Users/vladpavlovich/PycharmProjects/LSM-FinBert-Trader/venv/lib/python3.9/site-packages (from cffi>=1.12.0->curl_cffi>=0.7->yfinance) (2.22)\r\n",
      "\r\n",
      "\u001B[1m[\u001B[0m\u001B[34;49mnotice\u001B[0m\u001B[1;39;49m]\u001B[0m\u001B[39;49m A new release of pip is available: \u001B[0m\u001B[31;49m23.2.1\u001B[0m\u001B[39;49m -> \u001B[0m\u001B[32;49m25.1.1\u001B[0m\r\n",
      "\u001B[1m[\u001B[0m\u001B[34;49mnotice\u001B[0m\u001B[1;39;49m]\u001B[0m\u001B[39;49m To update, run: \u001B[0m\u001B[32;49mpip install --upgrade pip\u001B[0m\r\n"
     ]
    }
   ],
   "source": [
    "!pip install yfinance pandas numpy scikit-learn torch\n"
   ]
  },
  {
   "cell_type": "code",
   "execution_count": 65,
   "outputs": [],
   "source": [
    "import yfinance as yf\n",
    "import pandas as pd\n",
    "import numpy as np\n",
    "import torch\n",
    "from torch import nn\n",
    "from sklearn.preprocessing import MinMaxScaler\n",
    "import matplotlib.pyplot as plt\n",
    "\n"
   ],
   "metadata": {
    "collapsed": false,
    "ExecuteTime": {
     "end_time": "2025-07-05T05:47:06.322144Z",
     "start_time": "2025-07-05T05:47:06.319934Z"
    }
   },
   "id": "97dbbf63ef5752e3"
  },
  {
   "cell_type": "code",
   "execution_count": 66,
   "outputs": [
    {
     "name": "stderr",
     "output_type": "stream",
     "text": [
      "/var/folders/l6/kt268nls2sqcx51m4w_z09pc0000gn/T/ipykernel_59995/3827814912.py:5: FutureWarning: YF.download() has changed argument auto_adjust default to True\n",
      "  df = yf.download(\"AAPL\", start=start_date, end=end_date, interval=\"1d\")\n",
      "[*********************100%***********************]  1 of 1 completed\n"
     ]
    }
   ],
   "source": [
    "# Download 5 years of AAPL daily data\n",
    "start_date = \"2019-01-01\"\n",
    "end_date = datetime.today().strftime('%Y-%m-%d')\n",
    "\n",
    "df = yf.download(\"AAPL\", start=start_date, end=end_date, interval=\"1d\")\n",
    "df = df[['Open', 'High', 'Low', 'Close', 'Volume']]\n",
    "df.dropna(inplace=True)\n",
    "\n",
    "# Add engineered features\n",
    "df['Return'] = df['Close'].pct_change()\n",
    "df['Candle_Body'] = df['Close'] - df['Open']\n",
    "df['Range'] = df['High'] - df['Low']\n",
    "df.dropna(inplace=True)\n"
   ],
   "metadata": {
    "collapsed": false,
    "ExecuteTime": {
     "end_time": "2025-07-05T05:47:06.362791Z",
     "start_time": "2025-07-05T05:47:06.324513Z"
    }
   },
   "id": "ff2b216477db4c55"
  },
  {
   "cell_type": "code",
   "execution_count": 67,
   "outputs": [],
   "source": [
    "# Select and scale features\n",
    "features = ['Open', 'High', 'Low', 'Close', 'Volume', 'Return', 'Candle_Body', 'Range']\n",
    "scaler = MinMaxScaler()\n",
    "scaled_data = scaler.fit_transform(df[features])\n",
    "\n",
    "# Create sequences\n",
    "SEQ_LEN = 60\n",
    "X, y = [], []\n",
    "\n",
    "for i in range(SEQ_LEN, len(scaled_data)):\n",
    "    window = scaled_data[i-SEQ_LEN:i]\n",
    "    today_close = scaled_data[i][features.index('Close')]\n",
    "    prev_close = scaled_data[i-1][features.index('Close')]\n",
    "    change = today_close - prev_close\n",
    "    threshold = 0.002\n",
    "\n",
    "    if change > threshold:\n",
    "        X.append(window)\n",
    "        y.append(1)  # up\n",
    "    elif change < -threshold:\n",
    "        X.append(window)\n",
    "        y.append(0)  # down\n",
    "    else:\n",
    "        continue  # skip small movements\n",
    "\n",
    "X = np.array(X)\n",
    "y = np.array(y)\n"
   ],
   "metadata": {
    "collapsed": false,
    "ExecuteTime": {
     "end_time": "2025-07-05T05:47:06.372771Z",
     "start_time": "2025-07-05T05:47:06.365577Z"
    }
   },
   "id": "5203ea4452ef59f4"
  },
  {
   "cell_type": "code",
   "execution_count": 68,
   "outputs": [
    {
     "name": "stdout",
     "output_type": "stream",
     "text": [
      "X_train shape: torch.Size([1003, 60, 8])\n",
      "y_train shape: torch.Size([1003])\n"
     ]
    }
   ],
   "source": [
    "from sklearn.model_selection import train_test_split\n",
    "\n",
    "X_train, X_test, y_train, y_test = train_test_split(\n",
    "    X, y, test_size=0.2, shuffle=False)\n",
    "\n",
    "X_train = torch.tensor(X_train, dtype=torch.float32)\n",
    "y_train = torch.tensor(y_train, dtype=torch.long)\n",
    "X_test = torch.tensor(X_test, dtype=torch.float32)\n",
    "y_test = torch.tensor(y_test, dtype=torch.long)\n",
    "\n",
    "print(f\"X_train shape: {X_train.shape}\")\n",
    "print(f\"y_train shape: {y_train.shape}\")\n"
   ],
   "metadata": {
    "collapsed": false,
    "ExecuteTime": {
     "end_time": "2025-07-05T05:47:06.395268Z",
     "start_time": "2025-07-05T05:47:06.373836Z"
    }
   },
   "id": "b7d2bc42f11235e9"
  },
  {
   "cell_type": "code",
   "execution_count": 69,
   "outputs": [],
   "source": [
    "import torch\n",
    "import torch.nn as nn\n",
    "\n",
    "class Attention(nn.Module):\n",
    "    def __init__(self, hidden_size):\n",
    "        super(Attention, self).__init__()\n",
    "        self.attn = nn.Linear(hidden_size, 1)\n",
    "\n",
    "    def forward(self, lstm_output):\n",
    "        # lstm_output: (batch, seq_len, hidden_size)\n",
    "        weights = self.attn(lstm_output)               # [batch, seq_len, 1]\n",
    "        weights = torch.softmax(weights.squeeze(-1), dim=1)  # [batch, seq_len]\n",
    "        context = torch.bmm(weights.unsqueeze(1), lstm_output).squeeze(1)  # [batch, hidden_size]\n",
    "        return context, weights\n",
    "\n",
    "class StockLSTMStable(nn.Module):\n",
    "    def __init__(self, input_size=8, hidden_size=128, num_layers=2, dropout_rate=0.4):\n",
    "        super(StockLSTMStable, self).__init__()\n",
    "        self.lstm = nn.LSTM(\n",
    "            input_size=input_size,\n",
    "            hidden_size=hidden_size,\n",
    "            num_layers=num_layers,\n",
    "            batch_first=True,\n",
    "            dropout=dropout_rate\n",
    "        )\n",
    "        self.attention = Attention(hidden_size)\n",
    "        self.bn = nn.BatchNorm1d(hidden_size)\n",
    "        self.dropout = nn.Dropout(dropout_rate)\n",
    "        self.fc = nn.Sequential(\n",
    "            nn.Linear(hidden_size, 64),\n",
    "            nn.ReLU(),\n",
    "            nn.Dropout(dropout_rate),\n",
    "            nn.Linear(64, 2)  # Output: up/down\n",
    "        )\n",
    "\n",
    "    def forward(self, x):\n",
    "        lstm_out, _ = self.lstm(x)\n",
    "        attn_out, _ = self.attention(lstm_out)\n",
    "        out = self.bn(attn_out)\n",
    "        out = self.dropout(out)\n",
    "        return self.fc(out)\n"
   ],
   "metadata": {
    "collapsed": false,
    "ExecuteTime": {
     "end_time": "2025-07-05T05:47:06.399840Z",
     "start_time": "2025-07-05T05:47:06.382041Z"
    }
   },
   "id": "e9fb4a99704478b9"
  },
  {
   "cell_type": "code",
   "execution_count": 70,
   "outputs": [
    {
     "name": "stdout",
     "output_type": "stream",
     "text": [
      "Epoch 1/20 | Loss: 0.7168 | Train Accuracy: 0.4855\n",
      "Epoch 2/20 | Loss: 0.7104 | Train Accuracy: 0.5304\n",
      "Epoch 3/20 | Loss: 0.7039 | Train Accuracy: 0.5404\n",
      "Epoch 4/20 | Loss: 0.7022 | Train Accuracy: 0.5155\n",
      "Epoch 5/20 | Loss: 0.6929 | Train Accuracy: 0.5155\n",
      "Epoch 6/20 | Loss: 0.6942 | Train Accuracy: 0.5194\n",
      "Epoch 7/20 | Loss: 0.6989 | Train Accuracy: 0.5194\n",
      "Epoch 8/20 | Loss: 0.6942 | Train Accuracy: 0.5214\n",
      "Epoch 9/20 | Loss: 0.6913 | Train Accuracy: 0.5304\n",
      "Epoch 10/20 | Loss: 0.6982 | Train Accuracy: 0.5085\n",
      "Epoch 11/20 | Loss: 0.6988 | Train Accuracy: 0.5125\n",
      "Epoch 12/20 | Loss: 0.6867 | Train Accuracy: 0.5324\n",
      "Epoch 13/20 | Loss: 0.7048 | Train Accuracy: 0.5145\n",
      "Epoch 14/20 | Loss: 0.7021 | Train Accuracy: 0.5035\n",
      "Epoch 15/20 | Loss: 0.6965 | Train Accuracy: 0.5015\n",
      "Epoch 16/20 | Loss: 0.6888 | Train Accuracy: 0.5274\n",
      "Epoch 17/20 | Loss: 0.6977 | Train Accuracy: 0.5284\n",
      "Epoch 18/20 | Loss: 0.6993 | Train Accuracy: 0.5204\n",
      "Epoch 19/20 | Loss: 0.6883 | Train Accuracy: 0.5394\n",
      "Epoch 20/20 | Loss: 0.6907 | Train Accuracy: 0.5055\n"
     ]
    }
   ],
   "source": [
    "model = StockLSTMStable(input_size=8, hidden_size=128, num_layers=2, dropout_rate=0.4)\n",
    "loss_fn = nn.CrossEntropyLoss()\n",
    "optimizer = torch.optim.Adam(model.parameters(), lr=0.001)\n",
    "EPOCHS = 20  # More cycles, better generalization\n",
    "\n",
    "for epoch in range(EPOCHS):\n",
    "    model.train()\n",
    "    output = model(X_train)\n",
    "    loss = loss_fn(output, y_train)\n",
    "    \n",
    "    optimizer.zero_grad()\n",
    "    loss.backward()\n",
    "    optimizer.step()\n",
    "\n",
    "    preds = output.argmax(dim=1)\n",
    "    acc = (preds == y_train).float().mean()\n",
    "    print(f\"Epoch {epoch+1}/{EPOCHS} | Loss: {loss.item():.4f} | Train Accuracy: {acc.item():.4f}\")\n"
   ],
   "metadata": {
    "collapsed": false,
    "ExecuteTime": {
     "end_time": "2025-07-05T05:47:14.604704Z",
     "start_time": "2025-07-05T05:47:06.386284Z"
    }
   },
   "id": "de72cc9e436f8326"
  },
  {
   "cell_type": "code",
   "execution_count": 71,
   "outputs": [
    {
     "name": "stdout",
     "output_type": "stream",
     "text": [
      "Test Accuracy: 0.4143\n"
     ]
    }
   ],
   "source": [
    "model.eval()\n",
    "with torch.no_grad():\n",
    "    output_test = model(X_test)\n",
    "    pred_test = output_test.argmax(dim=1)\n",
    "    test_acc = (pred_test == y_test).float().mean()\n",
    "\n",
    "print(f\"Test Accuracy: {test_acc.item():.4f}\")\n"
   ],
   "metadata": {
    "collapsed": false,
    "ExecuteTime": {
     "end_time": "2025-07-05T05:47:14.681564Z",
     "start_time": "2025-07-05T05:47:14.604632Z"
    }
   },
   "id": "5de5e2ac42753d93"
  }
 ],
 "metadata": {
  "kernelspec": {
   "display_name": "Python 3",
   "language": "python",
   "name": "python3"
  },
  "language_info": {
   "codemirror_mode": {
    "name": "ipython",
    "version": 2
   },
   "file_extension": ".py",
   "mimetype": "text/x-python",
   "name": "python",
   "nbconvert_exporter": "python",
   "pygments_lexer": "ipython2",
   "version": "2.7.6"
  }
 },
 "nbformat": 4,
 "nbformat_minor": 5
}
